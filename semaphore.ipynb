{
  "nbformat": 4,
  "nbformat_minor": 0,
  "metadata": {
    "colab": {
      "name": "semaphore.ipynb",
      "private_outputs": true,
      "provenance": [],
      "authorship_tag": "ABX9TyP0cNJHP3WrMyM045c3Ys3I",
      "include_colab_link": true
    },
    "kernelspec": {
      "name": "python3",
      "display_name": "Python 3"
    },
    "language_info": {
      "name": "python"
    }
  },
  "cells": [
    {
      "cell_type": "markdown",
      "metadata": {
        "id": "view-in-github",
        "colab_type": "text"
      },
      "source": [
        "<a href=\"https://colab.research.google.com/github/jinsusong/study-OS/blob/main/semaphore.ipynb\" target=\"_parent\"><img src=\"https://colab.research.google.com/assets/colab-badge.svg\" alt=\"Open In Colab\"/></a>"
      ]
    },
    {
      "cell_type": "markdown",
      "source": [
        "# semaphore"
      ],
      "metadata": {
        "id": "69SyA0bP7P30"
      }
    },
    {
      "cell_type": "markdown",
      "source": [
        "### 세마포어 유래\n",
        "\n",
        "- emaphore는 깃발이라는 뜻입니다.\n",
        "\n",
        "- 옛날에는 기찻길에서 깃발 표식으로 파란색이 걸려있으면 지나가도 되고 빨간색이 걸려있으면 섰다가 다른 기차가 지나가면 지나가게끔 하는 용도로 깃발을 사용했어요 이 깃발을 semaphore라고 부릅니다. \n",
        " \n",
        "- 즉 겹치는 기찻길 부분이 두 기차가 공유하는 critical section인거죠! 저 기찻길에서도 critical section을 지나가도 된다 안된다를 알려주는 단어로 쓰임."
      ],
      "metadata": {
        "id": "nvU0SRz97cAH"
      }
    },
    {
      "cell_type": "markdown",
      "source": [
        "### 정의 \n",
        "- 공유된 자원의 데이터를 여러 프로세스가 접근하는 것을 막는 것\n",
        "- 세마포어는 공통으로 관리하는 하나의 값을 이용해 상호배제를 달성한다.\n",
        "- 상호 배제의 원리를 보장하는 알고리즘\n",
        "- 임계구역에 대하여 각각의 프로세스들의 접근을 제어하고 프로세스 사이의 동기를 유지 \n",
        "\n",
        "\n",
        "### 종류 \n",
        "- 이진형 세마포어: 0과 1값, 한개의 공유자원을 상호배제\n",
        "- 계수형 세마포어 : 0과 양의 정수, 여러개의 공유자원을 상호배제\n",
        "    - 세마포어는 단순히 변수. 공유자원의 개수를 나타내는 변수임.\n",
        "\n",
        "    - 카운팅 세마포어는 자원이 몇 개로 한정되었을 때, 이 자원에 접근하는 걸 컨트롤 하는데 사용\n",
        "\n",
        "    - 세마포어는 사용가능한 자원의 개수로 초기화"
      ],
      "metadata": {
        "id": "Uy8rjUEbAJXI"
      }
    },
    {
      "cell_type": "markdown",
      "source": [
        "### semaphore 접근 함수\n",
        "\n",
        "- wait(), signal()\n",
        "    - 자원을 사용하고 반납하기 위해 제공되는 함수 \n",
        "    - 사용하면 -1이 되고 반납할 때 +1 해주는 함수임.\n",
        "    - 세마포어 자체가 공유자원이 되면 안되니까 쪼개지지 않는 함수로 구성됨. \n",
        "    - shared data를 보호하려고 지금 세마포어를 사용하는데 세마포어 자체가 shared data가 되면 안되기 때문\n",
        "    - 세마포어 변수 S는 결국 초기화를 제외하면 atomic operation인 wait()와 sigmal()로만 접근 가능한 정수 타입의 변수임.\n",
        "    - 이 두 함수는 p또는 v라고도 함.\n",
        "    \n"
      ],
      "metadata": {
        "id": "WpErC_pF88vg"
      }
    },
    {
      "cell_type": "markdown",
      "source": [
        "출처 : https://jhnyang.tistory.com/101\n",
        "출처 : https://itwiki.kr/w/%EC%84%B8%EB%A7%88%ED%8F%AC%EC%96%B4"
      ],
      "metadata": {
        "id": "SciwZR7Q8a_v"
      }
    }
  ]
}