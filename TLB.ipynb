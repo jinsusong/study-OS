{
  "nbformat": 4,
  "nbformat_minor": 0,
  "metadata": {
    "colab": {
      "name": "TLB.ipynb",
      "private_outputs": true,
      "provenance": [],
      "authorship_tag": "ABX9TyMAFyevHTUDMf8IaXlqW10H",
      "include_colab_link": true
    },
    "kernelspec": {
      "name": "python3",
      "display_name": "Python 3"
    },
    "language_info": {
      "name": "python"
    }
  },
  "cells": [
    {
      "cell_type": "markdown",
      "metadata": {
        "id": "view-in-github",
        "colab_type": "text"
      },
      "source": [
        "<a href=\"https://colab.research.google.com/github/jinsusong/study-OS/blob/main/TLB.ipynb\" target=\"_parent\"><img src=\"https://colab.research.google.com/assets/colab-badge.svg\" alt=\"Open In Colab\"/></a>"
      ]
    },
    {
      "cell_type": "markdown",
      "source": [
        "# TLB\n"
      ],
      "metadata": {
        "id": "q7cd5U2L3H2C"
      }
    },
    {
      "cell_type": "markdown",
      "source": [
        "1. 가상 주소 : 40 bit\n",
        "\n",
        "2. 페이지 크기 : 8KB\n",
        "\n",
        "3. 물리 주소 : 16bit\n",
        "\n",
        "4. TLB의 항목 : 3개\n",
        "\n",
        "5. TLB 엔트리는 : \n",
        "    - Valid bit, \n",
        "    - Dirty bit, \n",
        "        - Page replacement가 일어날 때 dirty bit이 1라면 해당 page를 disk에 write 한다.\n",
        "    - VPN, \n",
        "    - PPN\n",
        "        -  어느 physical page에 caching 되어있는지?\n",
        "\n",
        "6. 페이지 테이블의 한 항목은 : \n",
        "    - Valid bit,\n",
        "        - 페이지에 접근할 때 메모리에 있는/없는지 표시\n",
        "        - valid : 메모리에 있음.\n",
        "        - invalid : 디스크에 있음.\n",
        "        \n",
        "    - Dirty bit\n",
        "    - 물리 페이지 프레임 번호\n",
        "\n",
        "7. TLB 항목 갱신은 LRU 페이지 교체 기법을 사용\n",
        "\n",
        "8. 4개의 연속된 페이지 프레임만을 한 프로세스에게 할당 가능\n",
        "\n",
        "9. 첫번째 페이지의 주소는 0x4000,\n",
        "\n",
        "10. 처음에는 TLB와 페이지테이블의 모든 항목이 비워 있다고 가정\n",
        "    - Pure Demanding Paging\n",
        "    - 프로세스가 최초로 실행될 때는 어떤 페이지가 필요한지 알 수 없으므로, 아무 페이지도 올리지 않는다.\n",
        "    -  프로그램을 실행하자마자 page fault가 발생\n",
        "\n",
        "11. 요구페이징 기법, 즉, 해당 페이지를 액세스 할 때만 페이지가 메모리에 로드\n",
        "    - Demand Paging\n",
        "    -  가상 메모리가 추구하는 방식을 구현하는 기법으로  사용하는 부분만 메모리에 올리는 방법\n",
        "    - 하드웨어적인 지원을 필요\n",
        "    - Valid-Invalid Bit를 사용하기 때문\n",
        "    - Demand Paging을 사용할 때는 메모리에 올리려는 것이 현재 메모리에 존재하는지 아니면 Disk에 존재하는지를 알아야 함.\n",
        "\n",
        "12. 물리페이지의 하드 디스크의 주소는 페이지 테이블에 기록하지 않음\n",
        "\n"
      ],
      "metadata": {
        "id": "tn_Opm-KsCgA"
      }
    },
    {
      "cell_type": "markdown",
      "source": [
        "- Page fault\n",
        "    - Page fault란 지금 실행시켜야 할 Page가 실제 메모리에 올라와 있지 않는 것\n",
        "    - CPU는 운영체제에게 알리고 운영체제는 잠시 동안 CPU 작업을 멈춥니다.\n",
        "    - 그리고 Disk에서 해당 부분을 찾아 실제 메모리의 비어있는 Frame에 올리고 Page Table의 해당 부분의 Bit를 Valid로 갱신\n",
        "\n",
        "- Page Replacement 알고리즘\n",
        "    - 실제 메모리에 비어있는 Frame이 존재하지 않으면 실행해야 할 Page에게 넘겨줄 Victim Frame을 찾는 과정\n",
        "\n",
        "- LRU \n",
        "    - 가장 오랫동안 사용되지 않은 Page의 Frame을 선택하는 알고리즘\n",
        "    - 실행되는 순서를 Stack으로 쌓아서 관리\n",
        "\n",
        "\n"
      ],
      "metadata": {
        "id": "-MXAGPMivHZE"
      }
    }
  ]
}