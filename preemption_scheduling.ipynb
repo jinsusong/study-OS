{
  "nbformat": 4,
  "nbformat_minor": 0,
  "metadata": {
    "colab": {
      "name": "preemption scheduling.ipynb",
      "private_outputs": true,
      "provenance": [],
      "authorship_tag": "ABX9TyPAEoFhoRhu66+UB2AANRf0",
      "include_colab_link": true
    },
    "kernelspec": {
      "name": "python3",
      "display_name": "Python 3"
    },
    "language_info": {
      "name": "python"
    }
  },
  "cells": [
    {
      "cell_type": "markdown",
      "metadata": {
        "id": "view-in-github",
        "colab_type": "text"
      },
      "source": [
        "<a href=\"https://colab.research.google.com/github/jinsusong/study-OS/blob/main/preemption_scheduling.ipynb\" target=\"_parent\"><img src=\"https://colab.research.google.com/assets/colab-badge.svg\" alt=\"Open In Colab\"/></a>"
      ]
    },
    {
      "cell_type": "markdown",
      "source": [
        "# preemption Scheduling"
      ],
      "metadata": {
        "id": "ctQinoqSLghj"
      }
    },
    {
      "cell_type": "markdown",
      "source": [
        "### CPU Scheduling\n",
        "- CPU가 하나의 프로세스 작업이 끝나면 다음 프로세스 작업을 수행해야 한다. 이때 다음 프로세스가 어느 프로세스인지를 선택하는 알고리즘을 CPU Scheduling 알고리즘\n",
        "\n",
        "\n",
        "### 선점 스케줄링 \n",
        "- Preemptive(선점)은 프로세스가 CPU를 점유하고 있는 동안 I/O나 인터럽트가 발생한 것도 아니고 모든 작업을 끝내지도 않았는데, 다른 프로세스가 해당 CPU를 강제로 점유 할 수 있다\n",
        "- 작업의 선점을 허용하는 멀티태스킹 운영 체제 방식이다. \n",
        "- 프로세스나 작업에서 시스템 자원이 필요 없을 때 명시적으로 양보하도록 프로그램을 작성\n",
        "\n",
        "### Scheduling criteria\n",
        "- Scheduling criteria(척도)는 스케줄링의 효율을 분석하는 기준\n",
        "1. CPU Utilization(이용률, %): CPU가 수행되는 비율\n",
        "2. Throughput(처리율, jobs/sec): 단위시간당 처리하는 작업의 수(처리량)\n",
        "3. Turnaround time(반환시간): 프로세스의 처음 시작 시간부터 모든 작업을 끝내고 종료하는데 걸린 시간이다.(CPU, waiting, I/O 등 모든 시간을 포함한다.) 반환시간은 짧을 수록 좋다.\n",
        "4. Waiting time(대기시간): CPU를 점유하기 위해서 ready queue에서 기다린 시간을 말한다.(다른 큐에서 대기한 시간은 제외한다.)\n",
        "5. Response time(응답시간): 일반적으로 대화형 시스템에서 입력에 대한 반응 시간을 말한다.\n",
        "\n",
        "### quantum(퀀텀) , time slice (타임 슬라이스)\n",
        "- 프로세스가 선점 다중 작업 시스템에서 실행할 수 있는 시간대\n",
        "\n",
        "### Context Switching \n",
        "\n",
        "\n",
        "### cpu utilization (CPU 이용률) \n",
        "\n",
        "\n",
        "- CPU utilization을 향상시키려면 context switching의 overhead를 줄여야한다. \n",
        "\n",
        "- context switch를 적게 하면 overhead를 줄일 수 있지만, response time이 길어진다.\n",
        "\n"
      ],
      "metadata": {
        "id": "_b0LzLwHLxWg"
      }
    },
    {
      "cell_type": "markdown",
      "source": [
        "출처 : https://velog.io/@codemcd/%EC%9A%B4%EC%98%81%EC%B2%B4%EC%A0%9COS-6.-CPU-%EC%8A%A4%EC%BC%80%EC%A4%84%EB%A7%81\n",
        "\n",
        "출처 : https://sjo200.tistory.com/32"
      ],
      "metadata": {
        "id": "_AfbfSX9OctG"
      }
    },
    {
      "cell_type": "markdown",
      "source": [
        ""
      ],
      "metadata": {
        "id": "ut71AjksPwfx"
      }
    },
    {
      "cell_type": "markdown",
      "source": [
        ""
      ],
      "metadata": {
        "id": "urDqD-zYPwdt"
      }
    }
  ]
}